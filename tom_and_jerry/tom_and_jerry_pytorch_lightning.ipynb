{
  "cells": [
    {
      "cell_type": "markdown",
      "metadata": {
        "id": "hmt1TajiB3Sf"
      },
      "source": [
        "# Reading and training tom and jerry dataset from kaggle"
      ]
    },
    {
      "cell_type": "markdown",
      "metadata": {},
      "source": [
        "## Imports and definations"
      ]
    },
    {
      "cell_type": "markdown",
      "metadata": {
        "id": "PF6VAUNUB3Sg"
      },
      "source": [
        "### Imports"
      ]
    },
    {
      "cell_type": "code",
      "execution_count": 1,
      "metadata": {
        "id": "2tWqRL18B3Sh"
      },
      "outputs": [],
      "source": [
        "import torch\n",
        "from torch import nn\n",
        "\n",
        "from torch.utils.data import DataLoader, random_split\n",
        "\n",
        "import torchvision\n",
        "\n",
        "from pathlib import Path\n",
        "\n",
        "from matplotlib import pyplot as plt\n",
        "\n",
        "import lightning as L"
      ]
    },
    {
      "cell_type": "markdown",
      "metadata": {},
      "source": [
        "## Run"
      ]
    },
    {
      "cell_type": "code",
      "execution_count": 2,
      "metadata": {},
      "outputs": [],
      "source": [
        "fabric = L.Fabric()\n",
        "fabric.launch()"
      ]
    },
    {
      "cell_type": "markdown",
      "metadata": {},
      "source": [
        "### get data"
      ]
    },
    {
      "cell_type": "markdown",
      "metadata": {
        "id": "pxEMGtBBB3Si"
      },
      "source": [
        "#### In pc"
      ]
    },
    {
      "cell_type": "code",
      "execution_count": 3,
      "metadata": {
        "id": "9wOmz8_GB3Si"
      },
      "outputs": [],
      "source": [
        "data_path = Path(\n",
        "    '/home/ramin/ramin_programs/files/datasets/tom-and-jerry-image-classification/tom_and_jerry/tom_and_jerry')"
      ]
    },
    {
      "cell_type": "markdown",
      "metadata": {
        "id": "G1u8Cb3_B3Sj"
      },
      "source": [
        "#### In colab"
      ]
    },
    {
      "cell_type": "code",
      "execution_count": 3,
      "metadata": {
        "id": "hp88t-urB3Sj"
      },
      "outputs": [],
      "source": [
        "from google.colab import userdata"
      ]
    },
    {
      "cell_type": "code",
      "execution_count": 4,
      "metadata": {
        "id": "gQZXG6CQB3Sj"
      },
      "outputs": [],
      "source": [
        "kaggle_target_path = Path('/root/.kaggle/kaggle.json')\n",
        "\n",
        "kaggle_target_path.parent.mkdir(exist_ok=True, parents=True)\n",
        "\n",
        "with open(kaggle_target_path,'w') as f:\n",
        "  f.write(userdata.get('Kaggle'))"
      ]
    },
    {
      "cell_type": "code",
      "execution_count": 5,
      "metadata": {
        "colab": {
          "base_uri": "https://localhost:8080/"
        },
        "id": "OTNVSNAEB3Sj",
        "outputId": "a8be2f8a-a4d8-497d-91d7-cb62cf133613"
      },
      "outputs": [
        {
          "name": "stdout",
          "output_type": "stream",
          "text": [
            "Warning: Your Kaggle API key is readable by other users on this system! To fix this, you can run 'chmod 600 /root/.kaggle/kaggle.json'\n",
            "Downloading tom-and-jerry-image-classification.zip to /content\n",
            "100% 433M/435M [00:22<00:00, 22.9MB/s]\n",
            "100% 435M/435M [00:22<00:00, 20.1MB/s]\n"
          ]
        }
      ],
      "source": [
        "! kaggle datasets download -d balabaskar/tom-and-jerry-image-classification"
      ]
    },
    {
      "cell_type": "code",
      "execution_count": 6,
      "metadata": {
        "id": "JoYkKqZhB3Sj"
      },
      "outputs": [],
      "source": [
        "! unzip -q tom-and-jerry-image-classification"
      ]
    },
    {
      "cell_type": "code",
      "execution_count": 7,
      "metadata": {
        "id": "FtSp0sBfB3Sk"
      },
      "outputs": [],
      "source": [
        "! rm -r tom-and-jerry-image-classification.zip"
      ]
    },
    {
      "cell_type": "code",
      "execution_count": 8,
      "metadata": {
        "id": "vJJcjrAGCYaH"
      },
      "outputs": [],
      "source": [
        "data_path = Path('tom_and_jerry/tom_and_jerry')"
      ]
    },
    {
      "cell_type": "markdown",
      "metadata": {
        "id": "i-MCZmJkD15T"
      },
      "source": [
        "### load data"
      ]
    },
    {
      "cell_type": "code",
      "execution_count": 4,
      "metadata": {
        "id": "_SXpvwBqB3Sk"
      },
      "outputs": [],
      "source": [
        "tr = torchvision.transforms.Compose(\n",
        "    [torchvision.transforms.Resize([90,160]),torchvision.transforms.ToTensor(),]\n",
        ")\n",
        "\n",
        "image_folder = torchvision.datasets.ImageFolder(data_path, transform=tr)"
      ]
    },
    {
      "cell_type": "code",
      "execution_count": 5,
      "metadata": {},
      "outputs": [],
      "source": [
        "g1 = torch.Generator().manual_seed(20)\n",
        "train_data, val_data, test_data = random_split(\n",
        "    image_folder, [0.6, 0.2, 0.2], g1)"
      ]
    },
    {
      "cell_type": "code",
      "execution_count": 6,
      "metadata": {
        "id": "bH2eMu_sB3Sk"
      },
      "outputs": [],
      "source": [
        "train_data_loader = DataLoader(train_data, batch_size=32, shuffle=True)\n",
        "val_data_loader = DataLoader(val_data, batch_size=32, shuffle=True)\n",
        "test_data_loader = DataLoader(test_data, batch_size=32, shuffle=True)"
      ]
    },
    {
      "cell_type": "code",
      "execution_count": 7,
      "metadata": {
        "colab": {
          "base_uri": "https://localhost:8080/",
          "height": 333
        },
        "id": "cuRc_P4PB3Sl",
        "outputId": "f9c99347-3783-4dd5-d89b-37be9dd8df38"
      },
      "outputs": [
        {
          "name": "stdout",
          "output_type": "stream",
          "text": [
            "tensor(2)\n"
          ]
        },
        {
          "data": {
            "image/png": "[encoded data removed]",
            "text/plain": [
              "<Figure size 640x480 with 1 Axes>"
            ]
          },
          "metadata": {},
          "output_type": "display_data"
        }
      ],
      "source": [
        "for tensor_image, label in train_data_loader:\n",
        "    figure, axes = plt.subplots(1,1)\n",
        "\n",
        "    axes.imshow(torchvision.transforms.ToPILImage()(tensor_image[0]))\n",
        "    axes.set_axis_off()\n",
        "    print(label[0])\n",
        "    break"
      ]
    },
    {
      "cell_type": "code",
      "execution_count": 8,
      "metadata": {},
      "outputs": [],
      "source": [
        "train_data_loader = fabric.setup_dataloaders(train_data_loader)\n",
        "val_data_loader = fabric.setup_dataloaders(val_data_loader)\n",
        "test_data_loader = fabric.setup_dataloaders(test_data_loader)"
      ]
    },
    {
      "cell_type": "markdown",
      "metadata": {},
      "source": [
        "### define model"
      ]
    },
    {
      "cell_type": "code",
      "execution_count": 9,
      "metadata": {
        "colab": {
          "base_uri": "https://localhost:8080/"
        },
        "id": "q0-AaQi8B3Sm",
        "outputId": "a35a48fc-46a2-4102-a10b-44c5b5c30614"
      },
      "outputs": [],
      "source": [
        "model = torchvision.models.mobilenet_v2(weights=torchvision.models.MobileNet_V2_Weights.IMAGENET1K_V1)"
      ]
    },
    {
      "cell_type": "code",
      "execution_count": 31,
      "metadata": {},
      "outputs": [],
      "source": [
        "# for param in model.parameters():\n",
        "#     param.requires_grad = False"
      ]
    },
    {
      "cell_type": "code",
      "execution_count": 10,
      "metadata": {
        "id": "T-rJWlInB3Sm"
      },
      "outputs": [],
      "source": [
        "model.classifier[1] = nn.Linear(1280,4)"
      ]
    },
    {
      "cell_type": "code",
      "execution_count": 11,
      "metadata": {
        "id": "yMvyQEJVB3Sn"
      },
      "outputs": [],
      "source": [
        "loss_fn = nn.CrossEntropyLoss()\n",
        "optimizer = torch.optim.Adam(model.parameters())"
      ]
    },
    {
      "cell_type": "code",
      "execution_count": 12,
      "metadata": {},
      "outputs": [],
      "source": [
        "model, optimizer = fabric.setup(model, optimizer)"
      ]
    },
    {
      "cell_type": "markdown",
      "metadata": {},
      "source": [
        "### train the model"
      ]
    },
    {
      "cell_type": "code",
      "execution_count": 24,
      "metadata": {},
      "outputs": [],
      "source": [
        "class Haha(L.LightningModule):\n",
        "\n",
        "    def __init__(self):\n",
        "        super().__init__()\n",
        "\n",
        "        self.model = torchvision.models.mobilenet_v2(weights=torchvision.models.MobileNet_V2_Weights.IMAGENET1K_V1)\n",
        "        model.classifier[1] = nn.Linear(1280,4)\n",
        "    \n",
        "    def forward(self, images):\n",
        "        return self.model(images)\n",
        "    \n",
        "    def training_step(self, batch, batch_idx):\n",
        "        images, labels = batch\n",
        "        prediction = self.model(images)\n",
        "        loss = nn.functional.cross_entropy(prediction, labels)\n",
        "        return loss\n",
        "    \n",
        "    def validation_step(self, batch, batch_idx):\n",
        "        images, labels = batch\n",
        "        prediction = self.model(images)\n",
        "        loss = nn.functional.cross_entropy(prediction, labels)\n",
        "        self.log('val_loss', loss)\n",
        "    \n",
        "    def configure_optimizers(self):\n",
        "        return torch.optim.Adam(model.parameters())"
      ]
    },
    {
      "cell_type": "code",
      "execution_count": 25,
      "metadata": {},
      "outputs": [
        {
          "name": "stderr",
          "output_type": "stream",
          "text": [
            "GPU available: True (cuda), used: True\n",
            "TPU available: False, using: 0 TPU cores\n",
            "IPU available: False, using: 0 IPUs\n",
            "HPU available: False, using: 0 HPUs\n",
            "LOCAL_RANK: 0 - CUDA_VISIBLE_DEVICES: [0]\n",
            "\n",
            "  | Name  | Type        | Params\n",
            "--------------------------------------\n",
            "0 | model | MobileNetV2 | 3.5 M \n",
            "--------------------------------------\n",
            "3.5 M     Trainable params\n",
            "0         Non-trainable params\n",
            "3.5 M     Total params\n",
            "14.019    Total estimated model params size (MB)\n"
          ]
        },
        {
          "name": "stdout",
          "output_type": "stream",
          "text": [
            "Epoch 4: 100%|██████████| 103/103 [01:04<00:00,  1.59it/s, v_num=4]        "
          ]
        },
        {
          "name": "stderr",
          "output_type": "stream",
          "text": [
            "`Trainer.fit` stopped: `max_epochs=5` reached.\n"
          ]
        },
        {
          "name": "stdout",
          "output_type": "stream",
          "text": [
            "Epoch 4: 100%|██████████| 103/103 [01:04<00:00,  1.58it/s, v_num=4]\n"
          ]
        }
      ],
      "source": [
        "light_t = Haha()\n",
        "trainer = L.Trainer(max_epochs=5)\n",
        "trainer.fit(light_t, train_data_loader, val_data_loader)"
      ]
    },
    {
      "cell_type": "code",
      "execution_count": 28,
      "metadata": {},
      "outputs": [
        {
          "name": "stderr",
          "output_type": "stream",
          "text": [
            "LOCAL_RANK: 0 - CUDA_VISIBLE_DEVICES: [0]\n",
            "/home/ramin/miniconda3/envs/pytorch_with_notebook/lib/python3.11/site-packages/lightning/pytorch/trainer/connectors/data_connector.py:492: Your `val_dataloader`'s sampler has shuffling enabled, it is strongly recommended that you turn shuffling off for val/test dataloaders.\n"
          ]
        },
        {
          "name": "stdout",
          "output_type": "stream",
          "text": [
            "Validation DataLoader 0: 100%|██████████| 35/35 [00:09<00:00,  3.78it/s]\n",
            "────────────────────────────────────────────────────────────────────────────────────────────────────────────────────────\n",
            "     Validate metric           DataLoader 0\n",
            "────────────────────────────────────────────────────────────────────────────────────────────────────────────────────────\n",
            "        val_loss             13.18801212310791\n",
            "────────────────────────────────────────────────────────────────────────────────────────────────────────────────────────\n"
          ]
        },
        {
          "data": {
            "text/plain": [
              "[{'val_loss': 13.18801212310791}]"
            ]
          },
          "execution_count": 28,
          "metadata": {},
          "output_type": "execute_result"
        }
      ],
      "source": [
        "trainer.validate(light_t,test_data_loader)"
      ]
    }
  ],
  "metadata": {
    "accelerator": "GPU",
    "colab": {
      "gpuType": "T4",
      "provenance": []
    },
    "kernelspec": {
      "display_name": "Python 3",
      "name": "python3"
    },
    "language_info": {
      "codemirror_mode": {
        "name": "ipython",
        "version": 3
      },
      "file_extension": ".py",
      "mimetype": "text/x-python",
      "name": "python",
      "nbconvert_exporter": "python",
      "pygments_lexer": "ipython3",
      "version": "3.11.7"
    }
  },
  "nbformat": 4,
  "nbformat_minor": 0
}
