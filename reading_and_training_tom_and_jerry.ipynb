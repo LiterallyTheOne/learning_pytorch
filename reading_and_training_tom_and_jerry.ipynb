{
  "cells": [
    {
      "cell_type": "markdown",
      "metadata": {
        "id": "hmt1TajiB3Sf"
      },
      "source": [
        "# Reading and training tom and jerry dataset from kaggle"
      ]
    },
    {
      "cell_type": "markdown",
      "metadata": {},
      "source": [
        "## Imports and definations"
      ]
    },
    {
      "cell_type": "markdown",
      "metadata": {
        "id": "PF6VAUNUB3Sg"
      },
      "source": [
        "### Imports"
      ]
    },
    {
      "cell_type": "code",
      "execution_count": 2,
      "metadata": {
        "id": "2tWqRL18B3Sh"
      },
      "outputs": [],
      "source": [
        "import torch\n",
        "from torch import nn\n",
        "\n",
        "from torch.utils.data import DataLoader, random_split\n",
        "\n",
        "import torchvision\n",
        "\n",
        "from pathlib import Path\n",
        "\n",
        "from matplotlib import pyplot as plt"
      ]
    },
    {
      "cell_type": "markdown",
      "metadata": {},
      "source": [
        "### functions"
      ]
    },
    {
      "cell_type": "code",
      "execution_count": 3,
      "metadata": {},
      "outputs": [],
      "source": [
        "def train(model: nn.Module, data_loader: DataLoader, loss_fn: nn.Module, optimizer: torch.optim.Optimizer, device: str = 'cuda', tensorboard_writer=None, epoch:int=0):\n",
        "    running_loss = 0\n",
        "    i_c = 0\n",
        "    number_of_batches = len(data_loader)\n",
        "    model.train()\n",
        "    for i, (images, labels) in enumerate(data_loader):\n",
        "        images = images.to(device)\n",
        "        labels = labels.to(device)\n",
        "\n",
        "        optimizer.zero_grad()\n",
        "\n",
        "        prediction = model(images)\n",
        "        loss = loss_fn(prediction, labels)\n",
        "\n",
        "        loss.backward()\n",
        "        optimizer.step()\n",
        "\n",
        "        running_loss += loss.item()\n",
        "        i_c += 1\n",
        "        if (i % 10 == 9) or i == number_of_batches-1:\n",
        "            print(f'\\r{i+1}/{number_of_batches}, loss = {loss.item():>4f}',end='')\n",
        "            if tensorboard_writer:\n",
        "\n",
        "                tensorboard_writer.add_scalar('training loss',\n",
        "                                running_loss / i_c ,\n",
        "                                epoch * number_of_batches + i)\n",
        "            running_loss = 0\n",
        "            i_c = 0\n",
        "    print()"
      ]
    },
    {
      "cell_type": "code",
      "execution_count": 4,
      "metadata": {},
      "outputs": [],
      "source": [
        "def test(model: nn.Module, data_loader: torch.utils.data.DataLoader, loss_fn: nn.Module, device:str='cuda') -> tuple[torch.float, torch.float]:\n",
        "    data_size = len(data_loader.dataset)\n",
        "    number_of_batches = len(data_loader)\n",
        "\n",
        "    model.eval()\n",
        "\n",
        "    loss = 0\n",
        "    correct = 0\n",
        "    with torch.no_grad():\n",
        "        for images, labels in data_loader:\n",
        "            images = images.to(device)\n",
        "            labels = labels.to(device)\n",
        "\n",
        "            prediction = model(images)\n",
        "            loss += loss_fn(prediction, labels).item()\n",
        "            correct += (prediction.argmax(1) ==\n",
        "                        labels).type(torch.float).sum().item()\n",
        "\n",
        "        loss /= number_of_batches\n",
        "        correct /= data_size\n",
        "\n",
        "    return correct, loss"
      ]
    },
    {
      "cell_type": "markdown",
      "metadata": {},
      "source": [
        "## Run"
      ]
    },
    {
      "cell_type": "markdown",
      "metadata": {},
      "source": [
        "### tensorboard"
      ]
    },
    {
      "cell_type": "code",
      "execution_count": 6,
      "metadata": {},
      "outputs": [],
      "source": [
        "from torch.utils.tensorboard import SummaryWriter\n",
        "\n",
        "writer = SummaryWriter('runs/tom_and_jerry')"
      ]
    },
    {
      "cell_type": "markdown",
      "metadata": {},
      "source": [
        "### device"
      ]
    },
    {
      "cell_type": "code",
      "execution_count": 7,
      "metadata": {
        "colab": {
          "base_uri": "https://localhost:8080/"
        },
        "id": "Z1Iuf5_3B3Si",
        "outputId": "13052b96-1600-45a6-a200-09b4c7fd5f81"
      },
      "outputs": [
        {
          "name": "stdout",
          "output_type": "stream",
          "text": [
            "device: cuda\n"
          ]
        }
      ],
      "source": [
        "device = 'cpu'\n",
        "\n",
        "if torch.cuda.is_available():\n",
        "    device = 'cuda'\n",
        "elif torch.backends.mps.is_available():\n",
        "    device ='mps'\n",
        "\n",
        "print(f'device: {device}')"
      ]
    },
    {
      "cell_type": "markdown",
      "metadata": {},
      "source": [
        "### get data"
      ]
    },
    {
      "cell_type": "markdown",
      "metadata": {
        "id": "pxEMGtBBB3Si"
      },
      "source": [
        "#### In pc"
      ]
    },
    {
      "cell_type": "code",
      "execution_count": 8,
      "metadata": {
        "id": "9wOmz8_GB3Si"
      },
      "outputs": [],
      "source": [
        "data_path = Path(\n",
        "    '/home/ramin/ramin_programs/files/datasets/tom-and-jerry-image-classification/tom_and_jerry/tom_and_jerry')"
      ]
    },
    {
      "cell_type": "markdown",
      "metadata": {
        "id": "G1u8Cb3_B3Sj"
      },
      "source": [
        "#### In colab"
      ]
    },
    {
      "cell_type": "code",
      "execution_count": 3,
      "metadata": {
        "id": "hp88t-urB3Sj"
      },
      "outputs": [],
      "source": [
        "from google.colab import userdata"
      ]
    },
    {
      "cell_type": "code",
      "execution_count": 4,
      "metadata": {
        "id": "gQZXG6CQB3Sj"
      },
      "outputs": [],
      "source": [
        "kaggle_target_path = Path('/root/.kaggle/kaggle.json')\n",
        "\n",
        "kaggle_target_path.parent.mkdir(exist_ok=True, parents=True)\n",
        "\n",
        "with open(kaggle_target_path,'w') as f:\n",
        "  f.write(userdata.get('Kaggle'))"
      ]
    },
    {
      "cell_type": "code",
      "execution_count": 5,
      "metadata": {
        "colab": {
          "base_uri": "https://localhost:8080/"
        },
        "id": "OTNVSNAEB3Sj",
        "outputId": "a8be2f8a-a4d8-497d-91d7-cb62cf133613"
      },
      "outputs": [
        {
          "name": "stdout",
          "output_type": "stream",
          "text": [
            "Warning: Your Kaggle API key is readable by other users on this system! To fix this, you can run 'chmod 600 /root/.kaggle/kaggle.json'\n",
            "Downloading tom-and-jerry-image-classification.zip to /content\n",
            "100% 433M/435M [00:22<00:00, 22.9MB/s]\n",
            "100% 435M/435M [00:22<00:00, 20.1MB/s]\n"
          ]
        }
      ],
      "source": [
        "! kaggle datasets download -d balabaskar/tom-and-jerry-image-classification"
      ]
    },
    {
      "cell_type": "code",
      "execution_count": 6,
      "metadata": {
        "id": "JoYkKqZhB3Sj"
      },
      "outputs": [],
      "source": [
        "! unzip -q tom-and-jerry-image-classification"
      ]
    },
    {
      "cell_type": "code",
      "execution_count": 7,
      "metadata": {
        "id": "FtSp0sBfB3Sk"
      },
      "outputs": [],
      "source": [
        "! rm -r tom-and-jerry-image-classification.zip"
      ]
    },
    {
      "cell_type": "code",
      "execution_count": 8,
      "metadata": {
        "id": "vJJcjrAGCYaH"
      },
      "outputs": [],
      "source": [
        "data_path = Path('tom_and_jerry/tom_and_jerry')"
      ]
    },
    {
      "cell_type": "code",
      "execution_count": null,
      "metadata": {},
      "outputs": [],
      "source": [
        "%load_ext tensorboard\n",
        "%tensorboard --logdir runs"
      ]
    },
    {
      "cell_type": "markdown",
      "metadata": {
        "id": "i-MCZmJkD15T"
      },
      "source": [
        "### load data"
      ]
    },
    {
      "cell_type": "code",
      "execution_count": 9,
      "metadata": {
        "id": "_SXpvwBqB3Sk"
      },
      "outputs": [],
      "source": [
        "tr = torchvision.transforms.Compose(\n",
        "    [torchvision.transforms.Resize([90,160]),torchvision.transforms.ToTensor(),]\n",
        ")\n",
        "\n",
        "image_folder = torchvision.datasets.ImageFolder(data_path, transform=tr)"
      ]
    },
    {
      "cell_type": "code",
      "execution_count": 10,
      "metadata": {},
      "outputs": [],
      "source": [
        "g1 = torch.Generator().manual_seed(20)\n",
        "train_data, val_data, test_data = random_split(\n",
        "    image_folder, [0.6, 0.2, 0.2], g1)"
      ]
    },
    {
      "cell_type": "code",
      "execution_count": 11,
      "metadata": {
        "id": "bH2eMu_sB3Sk"
      },
      "outputs": [],
      "source": [
        "train_data_loader = DataLoader(train_data, batch_size=32, shuffle=True)\n",
        "val_data_loader = DataLoader(val_data, batch_size=32, shuffle=True)\n",
        "test_data_loader = DataLoader(test_data, batch_size=32, shuffle=True)"
      ]
    },
    {
      "cell_type": "code",
      "execution_count": 12,
      "metadata": {
        "colab": {
          "base_uri": "https://localhost:8080/",
          "height": 333
        },
        "id": "cuRc_P4PB3Sl",
        "outputId": "f9c99347-3783-4dd5-d89b-37be9dd8df38"
      },
      "outputs": [
        {
          "name": "stdout",
          "output_type": "stream",
          "text": [
            "tensor(3)\n"
          ]
        },
        {
          "data": {
            "image/png": "[encoded data removed]",
            "text/plain": [
              "<Figure size 640x480 with 1 Axes>"
            ]
          },
          "metadata": {},
          "output_type": "display_data"
        }
      ],
      "source": [
        "for tensor_image, label in train_data_loader:\n",
        "    figure, axes = plt.subplots(1,1)\n",
        "\n",
        "    axes.imshow(torchvision.transforms.ToPILImage()(tensor_image[0]))\n",
        "    axes.set_axis_off()\n",
        "    print(label[0])\n",
        "    break"
      ]
    },
    {
      "cell_type": "markdown",
      "metadata": {},
      "source": [
        "### define model"
      ]
    },
    {
      "cell_type": "code",
      "execution_count": 13,
      "metadata": {
        "colab": {
          "base_uri": "https://localhost:8080/"
        },
        "id": "q0-AaQi8B3Sm",
        "outputId": "a35a48fc-46a2-4102-a10b-44c5b5c30614"
      },
      "outputs": [],
      "source": [
        "model = torchvision.models.mobilenet_v2(weights=torchvision.models.MobileNet_V2_Weights.IMAGENET1K_V1)"
      ]
    },
    {
      "cell_type": "code",
      "execution_count": 14,
      "metadata": {
        "id": "T-rJWlInB3Sm"
      },
      "outputs": [],
      "source": [
        "model.classifier[1] = nn.Linear(1280,4)"
      ]
    },
    {
      "cell_type": "code",
      "execution_count": 15,
      "metadata": {
        "id": "OUxLgjjRB3Sm"
      },
      "outputs": [],
      "source": [
        "model = model.to(device)"
      ]
    },
    {
      "cell_type": "code",
      "execution_count": 16,
      "metadata": {
        "id": "yMvyQEJVB3Sn"
      },
      "outputs": [],
      "source": [
        "loss_fn = nn.CrossEntropyLoss()\n",
        "optimizer = torch.optim.Adam(model.parameters())"
      ]
    },
    {
      "cell_type": "markdown",
      "metadata": {},
      "source": [
        "### train the model"
      ]
    },
    {
      "cell_type": "code",
      "execution_count": 18,
      "metadata": {
        "colab": {
          "base_uri": "https://localhost:8080/"
        },
        "id": "PLocXmFLB3Sn",
        "outputId": "d45ec695-1312-4a6e-d2fb-fc3ba798356f"
      },
      "outputs": [
        {
          "name": "stdout",
          "output_type": "stream",
          "text": [
            "in epoch: 0\n",
            "103/103, loss = 0.497787\n",
            "accuracy: 0.83, loss: 0.49\n",
            "in epoch: 1\n",
            "103/103, loss = 0.431958\n",
            "accuracy: 0.84, loss: 0.54\n",
            "in epoch: 2\n",
            "103/103, loss = 0.223615\n",
            "accuracy: 0.88, loss: 0.37\n",
            "in epoch: 3\n",
            "103/103, loss = 0.349990\n",
            "accuracy: 0.88, loss: 0.43\n",
            "in epoch: 4\n",
            "103/103, loss = 0.190356\n",
            "accuracy: 0.89, loss: 0.41\n"
          ]
        }
      ],
      "source": [
        "for epoch in range(5):\n",
        "    print(f'in epoch: {epoch}')\n",
        "    train(model, train_data_loader, loss_fn,\n",
        "          optimizer, device, writer, epoch)\n",
        "    accuracy, loss = test(model, val_data_loader, loss_fn, device)\n",
        "    print(f'accuracy: {accuracy:.2f}, loss: {loss:.2f}')"
      ]
    },
    {
      "cell_type": "code",
      "execution_count": 19,
      "metadata": {},
      "outputs": [
        {
          "name": "stdout",
          "output_type": "stream",
          "text": [
            "test results:\n",
            "accuracy: 0.8876712328767123, loss: 0.3493324782167162\n"
          ]
        }
      ],
      "source": [
        "accuracy, loss = test(model, test_data_loader, loss_fn, device)\n",
        "print('test results:')\n",
        "print(f'accuracy: {accuracy}, loss: {loss}')"
      ]
    }
  ],
  "metadata": {
    "accelerator": "GPU",
    "colab": {
      "gpuType": "T4",
      "provenance": []
    },
    "kernelspec": {
      "display_name": "Python 3",
      "name": "python3"
    },
    "language_info": {
      "codemirror_mode": {
        "name": "ipython",
        "version": 3
      },
      "file_extension": ".py",
      "mimetype": "text/x-python",
      "name": "python",
      "nbconvert_exporter": "python",
      "pygments_lexer": "ipython3",
      "version": "3.11.7"
    }
  },
  "nbformat": 4,
  "nbformat_minor": 0
}
