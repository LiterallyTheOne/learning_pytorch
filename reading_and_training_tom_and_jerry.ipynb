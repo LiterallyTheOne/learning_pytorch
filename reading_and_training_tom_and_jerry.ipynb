{
  "cells": [
    {
      "cell_type": "markdown",
      "metadata": {
        "id": "hmt1TajiB3Sf"
      },
      "source": [
        "# Reading and training tom and jerry dataset from kaggle"
      ]
    },
    {
      "cell_type": "markdown",
      "metadata": {
        "id": "PF6VAUNUB3Sg"
      },
      "source": [
        "## Imports"
      ]
    },
    {
      "cell_type": "code",
      "execution_count": 1,
      "metadata": {
        "id": "2tWqRL18B3Sh"
      },
      "outputs": [],
      "source": [
        "import torch\n",
        "from torch import nn\n",
        "\n",
        "import torchvision\n",
        "\n",
        "from pathlib import Path\n",
        "\n",
        "from matplotlib import pyplot as plt"
      ]
    },
    {
      "cell_type": "code",
      "execution_count": 2,
      "metadata": {
        "id": "Z1Iuf5_3B3Si",
        "outputId": "13052b96-1600-45a6-a200-09b4c7fd5f81",
        "colab": {
          "base_uri": "https://localhost:8080/"
        }
      },
      "outputs": [
        {
          "output_type": "stream",
          "name": "stdout",
          "text": [
            "device: cuda\n"
          ]
        }
      ],
      "source": [
        "device = 'cpu'\n",
        "\n",
        "if torch.cuda.is_available():\n",
        "    device = 'cuda'\n",
        "elif torch.backends.mps.is_available():\n",
        "    device ='mps'\n",
        "\n",
        "print(f'device: {device}')"
      ]
    },
    {
      "cell_type": "markdown",
      "metadata": {
        "id": "pxEMGtBBB3Si"
      },
      "source": [
        "## In pc"
      ]
    },
    {
      "cell_type": "code",
      "execution_count": null,
      "metadata": {
        "id": "9wOmz8_GB3Si"
      },
      "outputs": [],
      "source": [
        "data_path = Path(\n",
        "    '/home/ramin/ramin_programs/files/datasets/tom-and-jerry-image-classification/tom_and_jerry/tom_and_jerry')"
      ]
    },
    {
      "cell_type": "markdown",
      "metadata": {
        "id": "G1u8Cb3_B3Sj"
      },
      "source": [
        "## In colab"
      ]
    },
    {
      "cell_type": "code",
      "execution_count": 3,
      "metadata": {
        "id": "hp88t-urB3Sj"
      },
      "outputs": [],
      "source": [
        "from google.colab import userdata"
      ]
    },
    {
      "cell_type": "code",
      "execution_count": 4,
      "metadata": {
        "id": "gQZXG6CQB3Sj"
      },
      "outputs": [],
      "source": [
        "kaggle_target_path = Path('/root/.kaggle/kaggle.json')\n",
        "\n",
        "kaggle_target_path.parent.mkdir(exist_ok=True, parents=True)\n",
        "\n",
        "with open(kaggle_target_path,'w') as f:\n",
        "  f.write(userdata.get('Kaggle'))"
      ]
    },
    {
      "cell_type": "code",
      "execution_count": 5,
      "metadata": {
        "id": "OTNVSNAEB3Sj",
        "outputId": "a8be2f8a-a4d8-497d-91d7-cb62cf133613",
        "colab": {
          "base_uri": "https://localhost:8080/"
        }
      },
      "outputs": [
        {
          "output_type": "stream",
          "name": "stdout",
          "text": [
            "Warning: Your Kaggle API key is readable by other users on this system! To fix this, you can run 'chmod 600 /root/.kaggle/kaggle.json'\n",
            "Downloading tom-and-jerry-image-classification.zip to /content\n",
            "100% 433M/435M [00:22<00:00, 22.9MB/s]\n",
            "100% 435M/435M [00:22<00:00, 20.1MB/s]\n"
          ]
        }
      ],
      "source": [
        "! kaggle datasets download -d balabaskar/tom-and-jerry-image-classification"
      ]
    },
    {
      "cell_type": "code",
      "execution_count": 6,
      "metadata": {
        "id": "JoYkKqZhB3Sj"
      },
      "outputs": [],
      "source": [
        "! unzip -q tom-and-jerry-image-classification"
      ]
    },
    {
      "cell_type": "code",
      "execution_count": 7,
      "metadata": {
        "id": "FtSp0sBfB3Sk"
      },
      "outputs": [],
      "source": [
        "! rm -r tom-and-jerry-image-classification.zip"
      ]
    },
    {
      "cell_type": "code",
      "source": [
        "data_path = Path('tom_and_jerry/tom_and_jerry')"
      ],
      "metadata": {
        "id": "vJJcjrAGCYaH"
      },
      "execution_count": 8,
      "outputs": []
    },
    {
      "cell_type": "markdown",
      "source": [
        "## load data"
      ],
      "metadata": {
        "id": "i-MCZmJkD15T"
      }
    },
    {
      "cell_type": "code",
      "execution_count": 9,
      "metadata": {
        "id": "_SXpvwBqB3Sk"
      },
      "outputs": [],
      "source": [
        "tr = torchvision.transforms.Compose(\n",
        "    [torchvision.transforms.Resize([90,160]),torchvision.transforms.ToTensor(),]\n",
        ")\n",
        "\n",
        "image_folder = torchvision.datasets.ImageFolder(data_path, transform=tr)"
      ]
    },
    {
      "cell_type": "code",
      "execution_count": 10,
      "metadata": {
        "id": "bH2eMu_sB3Sk"
      },
      "outputs": [],
      "source": [
        "data_loader = torch.utils.data.DataLoader(image_folder,\n",
        "                         batch_size=32,\n",
        "                         shuffle=True\n",
        "                         )"
      ]
    },
    {
      "cell_type": "code",
      "execution_count": 11,
      "metadata": {
        "id": "cuRc_P4PB3Sl",
        "outputId": "f9c99347-3783-4dd5-d89b-37be9dd8df38",
        "colab": {
          "base_uri": "https://localhost:8080/",
          "height": 333
        }
      },
      "outputs": [
        {
          "output_type": "stream",
          "name": "stdout",
          "text": [
            "tensor(3)\n"
          ]
        },
        {
          "output_type": "display_data",
          "data": {
            "text/plain": [
              "<Figure size 640x480 with 1 Axes>"
            ],
            "image/png": "[encoded data removed]"
          },
          "metadata": {}
        }
      ],
      "source": [
        "for tensor_image, label in data_loader:\n",
        "    figure, axes = plt.subplots(1,1)\n",
        "\n",
        "    axes.imshow(torchvision.transforms.ToPILImage()(tensor_image[0]))\n",
        "    axes.set_axis_off()\n",
        "    print(label[0])\n",
        "    break"
      ]
    },
    {
      "cell_type": "code",
      "execution_count": 12,
      "metadata": {
        "id": "q0-AaQi8B3Sm",
        "outputId": "a35a48fc-46a2-4102-a10b-44c5b5c30614",
        "colab": {
          "base_uri": "https://localhost:8080/"
        }
      },
      "outputs": [
        {
          "output_type": "stream",
          "name": "stderr",
          "text": [
            "Downloading: \"https://download.pytorch.org/models/mobilenet_v2-b0353104.pth\" to /root/.cache/torch/hub/checkpoints/mobilenet_v2-b0353104.pth\n",
            "100%|██████████| 13.6M/13.6M [00:00<00:00, 71.1MB/s]\n"
          ]
        }
      ],
      "source": [
        "model = torchvision.models.mobilenet_v2(weights=torchvision.models.MobileNet_V2_Weights.IMAGENET1K_V1)"
      ]
    },
    {
      "cell_type": "code",
      "execution_count": 13,
      "metadata": {
        "id": "T-rJWlInB3Sm"
      },
      "outputs": [],
      "source": [
        "model.classifier[1] = nn.Linear(1280,4)"
      ]
    },
    {
      "cell_type": "code",
      "execution_count": 14,
      "metadata": {
        "id": "OUxLgjjRB3Sm"
      },
      "outputs": [],
      "source": [
        "model = model.to(device)"
      ]
    },
    {
      "cell_type": "code",
      "execution_count": 15,
      "metadata": {
        "id": "yMvyQEJVB3Sn"
      },
      "outputs": [],
      "source": [
        "loss_fn = nn.CrossEntropyLoss()\n",
        "optimizer = torch.optim.Adam(model.parameters())"
      ]
    },
    {
      "cell_type": "code",
      "execution_count": 16,
      "metadata": {
        "id": "tUAkw5__B3Sn"
      },
      "outputs": [],
      "source": [
        "def train(model, data_loader, loss_fn, optimizer):\n",
        "    data_size = len(data_loader.dataset)\n",
        "    model.train()\n",
        "    for i, (images, labels) in enumerate(data_loader):\n",
        "\n",
        "        images = images.to(device)\n",
        "        labels = labels.to(device)\n",
        "\n",
        "        y_pred = model(images)\n",
        "        loss = loss_fn(y_pred, labels)\n",
        "\n",
        "        loss.backward()\n",
        "        optimizer.step()\n",
        "        optimizer.zero_grad()\n",
        "\n",
        "        if i%100 == 0:\n",
        "            print(f'{loss.item():>7f} {(i+1)*len(images)}/{data_size}')"
      ]
    },
    {
      "cell_type": "code",
      "execution_count": 17,
      "metadata": {
        "id": "VXJyZBY7B3Sn"
      },
      "outputs": [],
      "source": [
        "def test(model, data_loader, loss_fn):\n",
        "    data_size = len(data_loader.dataset)\n",
        "    num_batches = len(data_loader)\n",
        "    model.eval()\n",
        "\n",
        "    test_loss = 0\n",
        "    correct = 0\n",
        "\n",
        "    with torch.no_grad():\n",
        "        for images, labels in data_loader:\n",
        "            images = images.to(device)\n",
        "            labels = labels.to(device)\n",
        "\n",
        "            y_pred = model(images)\n",
        "            test_loss += loss_fn(y_pred, labels).item()\n",
        "            correct += (y_pred.argmax(1) ==\n",
        "                        labels).type(torch.float).sum().item()\n",
        "\n",
        "    test_loss /= num_batches\n",
        "    correct /= data_size\n",
        "\n",
        "    print(f'loss: {test_loss}, accuracy: {correct}')"
      ]
    },
    {
      "cell_type": "code",
      "execution_count": 18,
      "metadata": {
        "id": "PLocXmFLB3Sn",
        "outputId": "d45ec695-1312-4a6e-d2fb-fc3ba798356f",
        "colab": {
          "base_uri": "https://localhost:8080/"
        }
      },
      "outputs": [
        {
          "output_type": "stream",
          "name": "stdout",
          "text": [
            "1.413446 32/5478\n",
            "0.509141 3232/5478\n",
            "loss: 0.3375963416643614, accuracy: 0.8793355239138372\n",
            "epoch 0 is over\n",
            "0.728981 32/5478\n",
            "0.138605 3232/5478\n",
            "loss: 0.25055661520292594, accuracy: 0.9101861993428259\n",
            "epoch 1 is over\n",
            "0.406455 32/5478\n",
            "0.219538 3232/5478\n",
            "loss: 0.1337786265107435, accuracy: 0.9565534866739686\n",
            "epoch 2 is over\n",
            "0.321957 32/5478\n",
            "0.177763 3232/5478\n",
            "loss: 0.3279780856831822, accuracy: 0.8716684921504199\n",
            "epoch 3 is over\n",
            "0.174405 32/5478\n",
            "0.272870 3232/5478\n",
            "loss: 0.10626460741772208, accuracy: 0.9633077765607886\n",
            "epoch 4 is over\n"
          ]
        }
      ],
      "source": [
        "for epoch in range(5):\n",
        "    train(model, data_loader, loss_fn, optimizer)\n",
        "    test(model, data_loader, loss_fn)\n",
        "    print(f'epoch {epoch} is over')"
      ]
    }
  ],
  "metadata": {
    "kernelspec": {
      "display_name": "Python 3",
      "name": "python3"
    },
    "language_info": {
      "codemirror_mode": {
        "name": "ipython",
        "version": 3
      },
      "file_extension": ".py",
      "mimetype": "text/x-python",
      "name": "python",
      "nbconvert_exporter": "python",
      "pygments_lexer": "ipython3",
      "version": "3.11.7"
    },
    "colab": {
      "provenance": [],
      "gpuType": "T4"
    },
    "accelerator": "GPU"
  },
  "nbformat": 4,
  "nbformat_minor": 0
}