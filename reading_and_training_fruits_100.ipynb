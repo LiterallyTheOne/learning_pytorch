{
 "cells": [
  {
   "cell_type": "markdown",
   "metadata": {},
   "source": [
    "# Transfer learning with MobileNetv2"
   ]
  },
  {
   "cell_type": "markdown",
   "metadata": {},
   "source": [
    "## Imports and definations"
   ]
  },
  {
   "cell_type": "markdown",
   "metadata": {},
   "source": [
    "### Imports"
   ]
  },
  {
   "cell_type": "code",
   "execution_count": 1,
   "metadata": {},
   "outputs": [],
   "source": [
    "import torch\n",
    "from torch import nn\n",
    "\n",
    "from torch.utils.data import DataLoader, random_split\n",
    "\n",
    "import torchvision\n",
    "\n",
    "from pathlib import Path\n",
    "\n",
    "from matplotlib import pyplot as plt"
   ]
  },
  {
   "cell_type": "markdown",
   "metadata": {},
   "source": [
    "### Functions"
   ]
  },
  {
   "cell_type": "code",
   "execution_count": 2,
   "metadata": {},
   "outputs": [],
   "source": [
    "def train(model: nn.Module, data_loader: DataLoader, loss_fn: nn.Module, optimizer: torch.optim.Optimizer, device: str = 'cuda', tensorboard_writer=None, epoch:int=0):\n",
    "    running_loss = 0\n",
    "    i_c = 0\n",
    "    number_of_batches = len(data_loader)\n",
    "    model.train()\n",
    "    for i, (images, labels) in enumerate(data_loader):\n",
    "        images = images.to(device)\n",
    "        labels = labels.to(device)\n",
    "\n",
    "        optimizer.zero_grad()\n",
    "\n",
    "        prediction = model(images)\n",
    "        loss = loss_fn(prediction, labels)\n",
    "\n",
    "        loss.backward()\n",
    "        optimizer.step()\n",
    "\n",
    "        running_loss += loss.item()\n",
    "        i_c += 1\n",
    "        if (i % 10 == 9) or i == number_of_batches-1:\n",
    "            print(f'\\r{i+1}/{number_of_batches}, loss = {loss.item():>4f}',end='')\n",
    "            if tensorboard_writer:\n",
    "\n",
    "                tensorboard_writer.add_scalar('training loss',\n",
    "                                running_loss / i_c ,\n",
    "                                epoch * number_of_batches + i)\n",
    "            running_loss = 0\n",
    "            i_c = 0\n",
    "    print()"
   ]
  },
  {
   "cell_type": "code",
   "execution_count": 3,
   "metadata": {},
   "outputs": [],
   "source": [
    "def test(model: nn.Module, data_loader: torch.utils.data.DataLoader, loss_fn: nn.Module, device:str='cuda') -> tuple[torch.float, torch.float]:\n",
    "    data_size = len(data_loader.dataset)\n",
    "    number_of_batches = len(data_loader)\n",
    "\n",
    "    model.eval()\n",
    "\n",
    "    loss = 0\n",
    "    correct = 0\n",
    "    with torch.no_grad():\n",
    "        for images, labels in data_loader:\n",
    "            images = images.to(device)\n",
    "            labels = labels.to(device)\n",
    "\n",
    "            prediction = model(images)\n",
    "            loss += loss_fn(prediction, labels).item()\n",
    "            correct += (prediction.argmax(1) ==\n",
    "                        labels).type(torch.float).sum().item()\n",
    "\n",
    "        loss /= number_of_batches\n",
    "        correct /= data_size\n",
    "\n",
    "    return correct, loss"
   ]
  },
  {
   "cell_type": "markdown",
   "metadata": {},
   "source": [
    "## Run"
   ]
  },
  {
   "cell_type": "markdown",
   "metadata": {},
   "source": [
    "### Tensorboard"
   ]
  },
  {
   "cell_type": "code",
   "execution_count": 4,
   "metadata": {},
   "outputs": [],
   "source": [
    "from torch.utils.tensorboard import SummaryWriter\n",
    "\n",
    "writer = SummaryWriter('runs/fruits_100')"
   ]
  },
  {
   "cell_type": "code",
   "execution_count": 9,
   "metadata": {},
   "outputs": [
    {
     "name": "stdout",
     "output_type": "stream",
     "text": [
      "The tensorboard extension is already loaded. To reload it, use:\n",
      "  %reload_ext tensorboard\n"
     ]
    },
    {
     "data": {
      "text/plain": [
       "Reusing TensorBoard on port 6006 (pid 18527), started 0:01:19 ago. (Use '!kill 18527' to kill it.)"
      ]
     },
     "metadata": {},
     "output_type": "display_data"
    },
    {
     "data": {
      "text/html": [
       "\n",
       "      <iframe id=\"tensorboard-frame-ea27e8a8512e3480\" width=\"100%\" height=\"800\" frameborder=\"0\">\n",
       "      </iframe>\n",
       "      <script>\n",
       "        (function() {\n",
       "          const frame = document.getElementById(\"tensorboard-frame-ea27e8a8512e3480\");\n",
       "          const url = new URL(\"http://localhost\");\n",
       "          const port = 6006;\n",
       "          if (port) {\n",
       "            url.port = port;\n",
       "          }\n",
       "          frame.src = url;\n",
       "        })();\n",
       "      </script>\n",
       "    "
      ],
      "text/plain": [
       "<IPython.core.display.HTML object>"
      ]
     },
     "metadata": {},
     "output_type": "display_data"
    }
   ],
   "source": [
    "%load_ext tensorboard\n",
    "%tensorboard --logdir runs"
   ]
  },
  {
   "cell_type": "markdown",
   "metadata": {},
   "source": [
    "### Device"
   ]
  },
  {
   "cell_type": "code",
   "execution_count": 6,
   "metadata": {},
   "outputs": [
    {
     "name": "stdout",
     "output_type": "stream",
     "text": [
      "device: cuda\n"
     ]
    }
   ],
   "source": [
    "device = 'cpu'\n",
    "\n",
    "if torch.cuda.is_available():\n",
    "    device = 'cuda'\n",
    "elif torch.backends.mps.is_available():\n",
    "    device = 'mps'\n",
    "\n",
    "print(f'device: {device}')"
   ]
  },
  {
   "cell_type": "markdown",
   "metadata": {},
   "source": [
    "### get data"
   ]
  },
  {
   "cell_type": "markdown",
   "metadata": {},
   "source": [
    "#### In pc"
   ]
  },
  {
   "cell_type": "code",
   "execution_count": 7,
   "metadata": {},
   "outputs": [],
   "source": [
    "data_path = Path('/home/ramin/ramin_programs/files/datasets/fruits-100')"
   ]
  },
  {
   "cell_type": "markdown",
   "metadata": {},
   "source": [
    "#### In colab"
   ]
  },
  {
   "cell_type": "code",
   "execution_count": null,
   "metadata": {},
   "outputs": [],
   "source": [
    "from google.colab import userdata"
   ]
  },
  {
   "cell_type": "code",
   "execution_count": null,
   "metadata": {},
   "outputs": [],
   "source": [
    "kaggle_target_path = Path('/root/.kaggle/kaggle.json')\n",
    "\n",
    "kaggle_target_path.parent.mkdir(exist_ok=True, parents=True)\n",
    "\n",
    "with open(kaggle_target_path,'w') as f:\n",
    "  f.write(userdata.get('Kaggle'))"
   ]
  },
  {
   "cell_type": "code",
   "execution_count": null,
   "metadata": {},
   "outputs": [
    {
     "name": "stdout",
     "output_type": "stream",
     "text": [
      "Warning: Your Kaggle API key is readable by other users on this system! To fix this, you can run 'chmod 600 /root/.kaggle/kaggle.json'\n",
      "Downloading tom-and-jerry-image-classification.zip to /content\n",
      "100% 433M/435M [00:22<00:00, 22.9MB/s]\n",
      "100% 435M/435M [00:22<00:00, 20.1MB/s]\n"
     ]
    }
   ],
   "source": [
    "! kaggle datasets download -d marquis03/fruits-100"
   ]
  },
  {
   "cell_type": "code",
   "execution_count": null,
   "metadata": {},
   "outputs": [],
   "source": [
    "! unzip -q fruits-100.zip -d fruits-100"
   ]
  },
  {
   "cell_type": "code",
   "execution_count": null,
   "metadata": {},
   "outputs": [],
   "source": [
    "! rm -r fruits-100.zip"
   ]
  },
  {
   "cell_type": "code",
   "execution_count": null,
   "metadata": {},
   "outputs": [],
   "source": [
    "data_path = Path('fruits-100')"
   ]
  },
  {
   "cell_type": "markdown",
   "metadata": {},
   "source": [
    "## load data"
   ]
  },
  {
   "cell_type": "code",
   "execution_count": 11,
   "metadata": {},
   "outputs": [],
   "source": [
    "train_data_path = data_path / 'train'\n",
    "valid_data_path = data_path / 'val'\n",
    "test_data_path = data_path / 'test'"
   ]
  },
  {
   "cell_type": "code",
   "execution_count": 12,
   "metadata": {},
   "outputs": [],
   "source": [
    "tr = torchvision.transforms.Compose(\n",
    "    [torchvision.transforms.Resize([90,160]),torchvision.transforms.ToTensor(),]\n",
    ")\n",
    "\n",
    "train_image_folder = torchvision.datasets.ImageFolder(train_data_path, transform=tr)\n",
    "valid_image_folder = torchvision.datasets.ImageFolder(valid_data_path, transform=tr)\n",
    "test_image_folder = torchvision.datasets.ImageFolder(test_data_path, transform=tr)"
   ]
  },
  {
   "cell_type": "code",
   "execution_count": 13,
   "metadata": {},
   "outputs": [],
   "source": [
    "train_data_loader = DataLoader(train_image_folder, batch_size=32, shuffle=True)\n",
    "val_data_loader = DataLoader(valid_image_folder, batch_size=32, shuffle=True)\n",
    "test_data_loader = DataLoader(test_image_folder, batch_size=32, shuffle=True)"
   ]
  },
  {
   "cell_type": "code",
   "execution_count": 14,
   "metadata": {},
   "outputs": [
    {
     "name": "stdout",
     "output_type": "stream",
     "text": [
      "tensor(80)\n"
     ]
    },
    {
     "data": {
      "image/png": "[encoded data removed]",
      "text/plain": [
       "<Figure size 640x480 with 1 Axes>"
      ]
     },
     "metadata": {},
     "output_type": "display_data"
    }
   ],
   "source": [
    "for tensor_image, label in train_data_loader:\n",
    "    figure, axes = plt.subplots(1,1)\n",
    "\n",
    "    axes.imshow(torchvision.transforms.ToPILImage()(tensor_image[0]))\n",
    "    axes.set_axis_off()\n",
    "    print(label[0])\n",
    "    break"
   ]
  },
  {
   "cell_type": "markdown",
   "metadata": {},
   "source": [
    "## Define model"
   ]
  },
  {
   "cell_type": "code",
   "execution_count": 15,
   "metadata": {},
   "outputs": [],
   "source": [
    "model = torchvision.models.mobilenet_v2(weights=torchvision.models.MobileNet_V2_Weights.IMAGENET1K_V1)"
   ]
  },
  {
   "cell_type": "code",
   "execution_count": 16,
   "metadata": {},
   "outputs": [],
   "source": [
    "model.classifier[1] = nn.Linear(1280, 100)"
   ]
  },
  {
   "cell_type": "code",
   "execution_count": 17,
   "metadata": {},
   "outputs": [],
   "source": [
    "model = model.to(device)"
   ]
  },
  {
   "cell_type": "code",
   "execution_count": 18,
   "metadata": {},
   "outputs": [],
   "source": [
    "loss_fn = nn.CrossEntropyLoss()\n",
    "optimizer = torch.optim.Adam(model.parameters())"
   ]
  },
  {
   "cell_type": "markdown",
   "metadata": {},
   "source": [
    "## Train the model"
   ]
  },
  {
   "cell_type": "code",
   "execution_count": 19,
   "metadata": {},
   "outputs": [
    {
     "name": "stdout",
     "output_type": "stream",
     "text": [
      "in epoch: 0\n",
      "1250/1250, loss = 1.949642\n",
      "accuracy: 0.45, loss: 1.95\n",
      "in epoch: 1\n",
      "1250/1250, loss = 1.389946\n",
      "accuracy: 0.56, loss: 1.56\n",
      "in epoch: 2\n",
      "1250/1250, loss = 1.694923\n",
      "accuracy: 0.59, loss: 1.46\n",
      "in epoch: 3\n",
      "1250/1250, loss = 0.974778\n",
      "accuracy: 0.62, loss: 1.32\n",
      "in epoch: 4\n",
      "1250/1250, loss = 0.934104\n",
      "accuracy: 0.63, loss: 1.27\n"
     ]
    }
   ],
   "source": [
    "for epoch in range(5):\n",
    "    print(f'in epoch: {epoch}')\n",
    "    train(model, train_data_loader, loss_fn,\n",
    "          optimizer, device, writer, epoch)\n",
    "    accuracy, loss = test(model, val_data_loader, loss_fn, device)\n",
    "    print(f'accuracy: {accuracy:.2f}, loss: {loss:.2f}')"
   ]
  },
  {
   "cell_type": "code",
   "execution_count": 20,
   "metadata": {},
   "outputs": [
    {
     "name": "stdout",
     "output_type": "stream",
     "text": [
      "test results:\n",
      "accuracy: 0.0052, loss: 12.861438988120693\n"
     ]
    }
   ],
   "source": [
    "accuracy, loss = test(model, test_data_loader, loss_fn, device)\n",
    "print('test results:')\n",
    "print(f'accuracy: {accuracy}, loss: {loss}')"
   ]
  }
 ],
 "metadata": {
  "kernelspec": {
   "display_name": "Python 3 (ipykernel)",
   "language": "python",
   "name": "python3"
  },
  "language_info": {
   "codemirror_mode": {
    "name": "ipython",
    "version": 3
   },
   "file_extension": ".py",
   "mimetype": "text/x-python",
   "name": "python",
   "nbconvert_exporter": "python",
   "pygments_lexer": "ipython3",
   "version": "3.11.7"
  }
 },
 "nbformat": 4,
 "nbformat_minor": 2
}
